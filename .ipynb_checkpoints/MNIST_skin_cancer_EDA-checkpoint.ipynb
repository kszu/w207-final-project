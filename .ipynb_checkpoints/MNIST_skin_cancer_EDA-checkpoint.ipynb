{
 "cells": [
  {
   "cell_type": "markdown",
   "metadata": {},
   "source": [
    "# Potential week 10 report\n",
    "\n",
    "Given that we have to produce give an oral report on some of our progress so far, including initial review and cleaning of the data, understanding what it actually means, and some light EDA work.\n",
    "\n",
    "For example, we could report:\n",
    "\n",
    "----\n",
    "We will be using the MNIST Skin Cancer HAM10000 dataset. This was originally produced to understand and classify skin lesions, particularly for medical students to become more interested in machine learning. The name of the dataset actually stands for, \"Humans against machine for 10,000 images.\"\n",
    "\n",
    "The data includes labels for the lesion type (for example: melanoma, vascular lesion, and basel cell carcinoma) as well as the means of confirming this diagnosis (for example: histopathology, follow-up exam, and expert consensus). \n",
    "\n",
    "The goal of our project will be to build a classification model that improves on the rate of prediction of skin lesion type compared to certified physicians. We still need to decide on the best metric to judge this performance, but one example could be to compare the lesions \"confirmed\" through expert consensus against the predictions of our classification model. Given that expert consensus is the least medically rigorous analysis that these lesions went through, it would give us the chance of testing whether or not a machine learning model could outperform leading human experts.\n",
    "\n",
    "\n",
    "As we began performing our EDA, we noticed a handful of important findings:\n",
    "\n",
    "* Though there are oover 10,000 images that we are able to analyze as part of this dataset, there are only 7,470 unique lesions to analyze. This means that there are multiple images of the same lesion in our data.\n",
    "* Not all lesions are created equal: the majority of lesions in our dataset are melanocytic nevi, which might be easier or more difficult to classify than other types of lesions.\n",
    "* There are over a dozen body parts where these lesions were discovered, from the back to the chest to the ear. As we build our model, we should keep this in mind, in case the part of the body could impact model performance.\n",
    "* Our images come in various data formats: some are 8 by 8 pixel images, whereas others are 28 by 28 pixels. As we can see below (in the respective grids of lesion images), the 28 by 28 images are significantly higher resolution, and testing our model across both types of images will allow us to assess the minimum image quality in order to achieve a certain model classification standard.\n",
    "* One qualitative observation from our data: a cursory glance at the images of the lesions appeared to show that almost all images of lesions come from caucasian patients. If that is in fact the case, we should keep in mind that this model may not generalize well to a larger population.\n",
    "----"
   ]
  },
  {
   "cell_type": "code",
   "execution_count": 1,
   "metadata": {},
   "outputs": [
    {
     "name": "stderr",
     "output_type": "stream",
     "text": [
      "Illegal line #20\n",
      "\t\"(44, 160, 44), (152, 223, 138), (214, 39, 40), (255, 152, 150), \n",
      "\"\n",
      "\tin file \"/Applications/anaconda/lib/python3.6/site-packages/matplotlib/mpl-data/stylelib/w209.mplstyle\"\n",
      "Illegal line #21\n",
      "\t\"(148, 103, 189), (197, 176, 213), (140, 86, 75), (196, 156, 148), \n",
      "\"\n",
      "\tin file \"/Applications/anaconda/lib/python3.6/site-packages/matplotlib/mpl-data/stylelib/w209.mplstyle\"\n",
      "Illegal line #22\n",
      "\t\"(227, 119, 194), (247, 182, 210), (127, 127, 127), (199, 199, 199), \n",
      "\"\n",
      "\tin file \"/Applications/anaconda/lib/python3.6/site-packages/matplotlib/mpl-data/stylelib/w209.mplstyle\"\n",
      "Illegal line #23\n",
      "\t\"(188, 189, 34), (219, 219, 141), (23, 190, 207), (158, 218, 229)])\n",
      "\"\n",
      "\tin file \"/Applications/anaconda/lib/python3.6/site-packages/matplotlib/mpl-data/stylelib/w209.mplstyle\"\n",
      "Bad val \"cycler('color', [(31, 119, 180), (174, 199, 232), (255, 127, 14), (255, 187, 120),\" on line #19\n",
      "\t\"axes.prop_cycle: cycler('color', [(31, 119, 180), (174, 199, 232), (255, 127, 14), (255, 187, 120), \n",
      "\"\n",
      "\tin file \"/Applications/anaconda/lib/python3.6/site-packages/matplotlib/mpl-data/stylelib/w209.mplstyle\"\n",
      "\tKey axes.prop_cycle: 'cycler('color', [(31, 119, 180), (174, 199, 232), (255, 127, 14), (255, 187, 120),' is not a valid cycler construction: unexpected EOF while parsing (<string>, line 1)\n"
     ]
    }
   ],
   "source": [
    "import pandas as pd\n",
    "import numpy as np\n",
    "import seaborn as sns\n",
    "%matplotlib inline\n",
    "import matplotlib.pyplot as plt"
   ]
  },
  {
   "cell_type": "code",
   "execution_count": 2,
   "metadata": {},
   "outputs": [],
   "source": [
    "### I pulled my data in locally, so this will need to be cleaned up for us to work on it collaboratively\n",
    "### For now, I recommend that you update the directory to your relevant file path\n",
    "\n",
    "direc = '/Users/keenanszulik/dev/src/skin-cancer-mnist-ham10000/'\n",
    "meta = pd.read_csv(direc + 'HAM10000_metadata.csv')"
   ]
  },
  {
   "cell_type": "code",
   "execution_count": 3,
   "metadata": {},
   "outputs": [
    {
     "data": {
      "text/html": [
       "<div>\n",
       "<style scoped>\n",
       "    .dataframe tbody tr th:only-of-type {\n",
       "        vertical-align: middle;\n",
       "    }\n",
       "\n",
       "    .dataframe tbody tr th {\n",
       "        vertical-align: top;\n",
       "    }\n",
       "\n",
       "    .dataframe thead th {\n",
       "        text-align: right;\n",
       "    }\n",
       "</style>\n",
       "<table border=\"1\" class=\"dataframe\">\n",
       "  <thead>\n",
       "    <tr style=\"text-align: right;\">\n",
       "      <th></th>\n",
       "      <th>lesion_id</th>\n",
       "      <th>image_id</th>\n",
       "      <th>dx</th>\n",
       "      <th>dx_type</th>\n",
       "      <th>age</th>\n",
       "      <th>sex</th>\n",
       "      <th>localization</th>\n",
       "    </tr>\n",
       "  </thead>\n",
       "  <tbody>\n",
       "    <tr>\n",
       "      <th>0</th>\n",
       "      <td>HAM_0000118</td>\n",
       "      <td>ISIC_0027419</td>\n",
       "      <td>bkl</td>\n",
       "      <td>histo</td>\n",
       "      <td>80.0</td>\n",
       "      <td>male</td>\n",
       "      <td>scalp</td>\n",
       "    </tr>\n",
       "    <tr>\n",
       "      <th>1</th>\n",
       "      <td>HAM_0000118</td>\n",
       "      <td>ISIC_0025030</td>\n",
       "      <td>bkl</td>\n",
       "      <td>histo</td>\n",
       "      <td>80.0</td>\n",
       "      <td>male</td>\n",
       "      <td>scalp</td>\n",
       "    </tr>\n",
       "    <tr>\n",
       "      <th>2</th>\n",
       "      <td>HAM_0002730</td>\n",
       "      <td>ISIC_0026769</td>\n",
       "      <td>bkl</td>\n",
       "      <td>histo</td>\n",
       "      <td>80.0</td>\n",
       "      <td>male</td>\n",
       "      <td>scalp</td>\n",
       "    </tr>\n",
       "    <tr>\n",
       "      <th>3</th>\n",
       "      <td>HAM_0002730</td>\n",
       "      <td>ISIC_0025661</td>\n",
       "      <td>bkl</td>\n",
       "      <td>histo</td>\n",
       "      <td>80.0</td>\n",
       "      <td>male</td>\n",
       "      <td>scalp</td>\n",
       "    </tr>\n",
       "    <tr>\n",
       "      <th>4</th>\n",
       "      <td>HAM_0001466</td>\n",
       "      <td>ISIC_0031633</td>\n",
       "      <td>bkl</td>\n",
       "      <td>histo</td>\n",
       "      <td>75.0</td>\n",
       "      <td>male</td>\n",
       "      <td>ear</td>\n",
       "    </tr>\n",
       "  </tbody>\n",
       "</table>\n",
       "</div>"
      ],
      "text/plain": [
       "     lesion_id      image_id   dx dx_type   age   sex localization\n",
       "0  HAM_0000118  ISIC_0027419  bkl   histo  80.0  male        scalp\n",
       "1  HAM_0000118  ISIC_0025030  bkl   histo  80.0  male        scalp\n",
       "2  HAM_0002730  ISIC_0026769  bkl   histo  80.0  male        scalp\n",
       "3  HAM_0002730  ISIC_0025661  bkl   histo  80.0  male        scalp\n",
       "4  HAM_0001466  ISIC_0031633  bkl   histo  75.0  male          ear"
      ]
     },
     "execution_count": 3,
     "metadata": {},
     "output_type": "execute_result"
    }
   ],
   "source": [
    "meta.head()"
   ]
  },
  {
   "cell_type": "code",
   "execution_count": 4,
   "metadata": {},
   "outputs": [
    {
     "data": {
      "text/plain": [
       "(10015, 7)"
      ]
     },
     "execution_count": 4,
     "metadata": {},
     "output_type": "execute_result"
    }
   ],
   "source": [
    "meta.shape"
   ]
  },
  {
   "cell_type": "code",
   "execution_count": 5,
   "metadata": {},
   "outputs": [
    {
     "name": "stdout",
     "output_type": "stream",
     "text": [
      "lesion_id\n",
      "['HAM_0000118' 'HAM_0002730' 'HAM_0001466' ... 'HAM_0005579' 'HAM_0001576'\n",
      " 'HAM_0002867']\n",
      "image_id\n",
      "['ISIC_0027419' 'ISIC_0025030' 'ISIC_0026769' ... 'ISIC_0033536'\n",
      " 'ISIC_0032854' 'ISIC_0032258']\n",
      "dx\n",
      "['bkl' 'nv' 'df' 'mel' 'vasc' 'bcc' 'akiec']\n",
      "dx_type\n",
      "['histo' 'consensus' 'confocal' 'follow_up']\n",
      "age\n",
      "[80. 75. 60. 70. 55. 85. 65. 40. 50. 45. 35.  0. 30. nan  5. 25. 20. 10.\n",
      " 15.]\n",
      "sex\n",
      "['male' 'female' 'unknown']\n",
      "localization\n",
      "['scalp' 'ear' 'face' 'back' 'trunk' 'chest' 'upper extremity' 'abdomen'\n",
      " 'unknown' 'lower extremity' 'genital' 'neck' 'hand' 'foot' 'acral']\n"
     ]
    }
   ],
   "source": [
    "for c in meta.columns:\n",
    "    print(c)\n",
    "    print(meta[c].unique())"
   ]
  },
  {
   "cell_type": "code",
   "execution_count": 6,
   "metadata": {},
   "outputs": [
    {
     "data": {
      "text/plain": [
       "7470"
      ]
     },
     "execution_count": 6,
     "metadata": {},
     "output_type": "execute_result"
    }
   ],
   "source": [
    "len(meta['lesion_id'].unique())"
   ]
  },
  {
   "cell_type": "code",
   "execution_count": 7,
   "metadata": {},
   "outputs": [
    {
     "data": {
      "text/plain": [
       "sex\n",
       "female     4552\n",
       "male       5406\n",
       "unknown      57\n",
       "Name: sex, dtype: int64"
      ]
     },
     "execution_count": 7,
     "metadata": {},
     "output_type": "execute_result"
    }
   ],
   "source": [
    "meta.groupby('sex')['sex'].count()"
   ]
  },
  {
   "cell_type": "code",
   "execution_count": 8,
   "metadata": {},
   "outputs": [
    {
     "data": {
      "text/plain": [
       "dx\n",
       "akiec     327\n",
       "bcc       514\n",
       "bkl      1099\n",
       "df        115\n",
       "mel      1113\n",
       "nv       6705\n",
       "vasc      142\n",
       "Name: dx, dtype: int64"
      ]
     },
     "execution_count": 8,
     "metadata": {},
     "output_type": "execute_result"
    }
   ],
   "source": [
    "meta.groupby('dx')['dx'].count()"
   ]
  },
  {
   "cell_type": "code",
   "execution_count": 9,
   "metadata": {},
   "outputs": [
    {
     "data": {
      "text/plain": [
       "dx_type\n",
       "confocal       69\n",
       "consensus     902\n",
       "follow_up    3704\n",
       "histo        5340\n",
       "Name: dx_type, dtype: int64"
      ]
     },
     "execution_count": 9,
     "metadata": {},
     "output_type": "execute_result"
    }
   ],
   "source": [
    "meta.groupby('dx_type')['dx_type'].count()"
   ]
  },
  {
   "cell_type": "code",
   "execution_count": 10,
   "metadata": {},
   "outputs": [
    {
     "data": {
      "text/plain": [
       "localization\n",
       "abdomen            1022\n",
       "acral                 7\n",
       "back               2192\n",
       "chest               407\n",
       "ear                  56\n",
       "face                745\n",
       "foot                319\n",
       "genital              48\n",
       "hand                 90\n",
       "lower extremity    2077\n",
       "neck                168\n",
       "scalp               128\n",
       "trunk              1404\n",
       "unknown             234\n",
       "upper extremity    1118\n",
       "Name: localization, dtype: int64"
      ]
     },
     "execution_count": 10,
     "metadata": {},
     "output_type": "execute_result"
    }
   ],
   "source": [
    "meta.groupby('localization')['localization'].count()"
   ]
  },
  {
   "cell_type": "code",
   "execution_count": 11,
   "metadata": {},
   "outputs": [
    {
     "name": "stdout",
     "output_type": "stream",
     "text": [
      "\n",
      "\n",
      "dx\n",
      "       lesion_id  image_id  dx_type   age   sex  localization\n",
      "dx                                                           \n",
      "akiec        327       327      327   327   327           327\n",
      "bcc          514       514      514   514   514           514\n",
      "bkl         1099      1099     1099  1089  1099          1099\n",
      "df           115       115      115   115   115           115\n",
      "mel         1113      1113     1113  1111  1113          1113\n",
      "nv          6705      6705     6705  6660  6705          6705\n",
      "vasc         142       142      142   142   142           142\n",
      "\n",
      "\n",
      "dx_type\n",
      "           lesion_id  image_id    dx   age   sex  localization\n",
      "dx_type                                                       \n",
      "confocal          69        69    69    69    69            69\n",
      "consensus        902       902   902   853   902           902\n",
      "follow_up       3704      3704  3704  3704  3704          3704\n",
      "histo           5340      5340  5340  5332  5340          5340\n",
      "\n",
      "\n",
      "sex\n",
      "         lesion_id  image_id    dx  dx_type   age  localization\n",
      "sex                                                            \n",
      "female        4552      4552  4552     4552  4548          4552\n",
      "male          5406      5406  5406     5406  5400          5406\n",
      "unknown         57        57    57       57    10            57\n",
      "\n",
      "\n",
      "localization\n",
      "                 lesion_id  image_id    dx  dx_type   age   sex\n",
      "localization                                                   \n",
      "abdomen               1022      1022  1022     1022  1021  1022\n",
      "acral                    7         7     7        7     7     7\n",
      "back                  2192      2192  2192     2192  2192  2192\n",
      "chest                  407       407   407      407   405   407\n",
      "ear                     56        56    56       56    56    56\n",
      "face                   745       745   745      745   743   745\n",
      "foot                   319       319   319      319   317   319\n",
      "genital                 48        48    48       48    48    48\n",
      "hand                    90        90    90       90    90    90\n",
      "lower extremity       2077      2077  2077     2077  2077  2077\n",
      "neck                   168       168   168      168   168   168\n",
      "scalp                  128       128   128      128   128   128\n",
      "trunk                 1404      1404  1404     1404  1403  1404\n",
      "unknown                234       234   234      234   187   234\n",
      "upper extremity       1118      1118  1118     1118  1116  1118\n"
     ]
    }
   ],
   "source": [
    "str_cols = ['dx','dx_type','sex','localization']\n",
    "for c in str_cols:\n",
    "    print(\"\\n\")\n",
    "    print(c)\n",
    "    print(meta.groupby(c).count())"
   ]
  },
  {
   "cell_type": "markdown",
   "metadata": {},
   "source": [
    "## 8 by 8 L images"
   ]
  },
  {
   "cell_type": "code",
   "execution_count": 12,
   "metadata": {},
   "outputs": [],
   "source": [
    "l_eight = pd.read_csv(direc + 'hmnist_8_8_l.csv')"
   ]
  },
  {
   "cell_type": "code",
   "execution_count": 13,
   "metadata": {},
   "outputs": [
    {
     "data": {
      "text/html": [
       "<div>\n",
       "<style scoped>\n",
       "    .dataframe tbody tr th:only-of-type {\n",
       "        vertical-align: middle;\n",
       "    }\n",
       "\n",
       "    .dataframe tbody tr th {\n",
       "        vertical-align: top;\n",
       "    }\n",
       "\n",
       "    .dataframe thead th {\n",
       "        text-align: right;\n",
       "    }\n",
       "</style>\n",
       "<table border=\"1\" class=\"dataframe\">\n",
       "  <thead>\n",
       "    <tr style=\"text-align: right;\">\n",
       "      <th></th>\n",
       "      <th>pixel0000</th>\n",
       "      <th>pixel0001</th>\n",
       "      <th>pixel0002</th>\n",
       "      <th>pixel0003</th>\n",
       "      <th>pixel0004</th>\n",
       "      <th>pixel0005</th>\n",
       "      <th>pixel0006</th>\n",
       "      <th>pixel0007</th>\n",
       "      <th>pixel0008</th>\n",
       "      <th>pixel0009</th>\n",
       "      <th>...</th>\n",
       "      <th>pixel0055</th>\n",
       "      <th>pixel0056</th>\n",
       "      <th>pixel0057</th>\n",
       "      <th>pixel0058</th>\n",
       "      <th>pixel0059</th>\n",
       "      <th>pixel0060</th>\n",
       "      <th>pixel0061</th>\n",
       "      <th>pixel0062</th>\n",
       "      <th>pixel0063</th>\n",
       "      <th>label</th>\n",
       "    </tr>\n",
       "  </thead>\n",
       "  <tbody>\n",
       "    <tr>\n",
       "      <th>0</th>\n",
       "      <td>172</td>\n",
       "      <td>182</td>\n",
       "      <td>191</td>\n",
       "      <td>183</td>\n",
       "      <td>180</td>\n",
       "      <td>181</td>\n",
       "      <td>165</td>\n",
       "      <td>164</td>\n",
       "      <td>173</td>\n",
       "      <td>192</td>\n",
       "      <td>...</td>\n",
       "      <td>159</td>\n",
       "      <td>171</td>\n",
       "      <td>181</td>\n",
       "      <td>201</td>\n",
       "      <td>192</td>\n",
       "      <td>184</td>\n",
       "      <td>183</td>\n",
       "      <td>171</td>\n",
       "      <td>157</td>\n",
       "      <td>2</td>\n",
       "    </tr>\n",
       "    <tr>\n",
       "      <th>1</th>\n",
       "      <td>98</td>\n",
       "      <td>149</td>\n",
       "      <td>170</td>\n",
       "      <td>193</td>\n",
       "      <td>183</td>\n",
       "      <td>162</td>\n",
       "      <td>164</td>\n",
       "      <td>100</td>\n",
       "      <td>137</td>\n",
       "      <td>175</td>\n",
       "      <td>...</td>\n",
       "      <td>135</td>\n",
       "      <td>83</td>\n",
       "      <td>159</td>\n",
       "      <td>186</td>\n",
       "      <td>185</td>\n",
       "      <td>192</td>\n",
       "      <td>181</td>\n",
       "      <td>143</td>\n",
       "      <td>58</td>\n",
       "      <td>2</td>\n",
       "    </tr>\n",
       "    <tr>\n",
       "      <th>2</th>\n",
       "      <td>165</td>\n",
       "      <td>164</td>\n",
       "      <td>179</td>\n",
       "      <td>172</td>\n",
       "      <td>152</td>\n",
       "      <td>163</td>\n",
       "      <td>169</td>\n",
       "      <td>151</td>\n",
       "      <td>168</td>\n",
       "      <td>174</td>\n",
       "      <td>...</td>\n",
       "      <td>169</td>\n",
       "      <td>152</td>\n",
       "      <td>171</td>\n",
       "      <td>185</td>\n",
       "      <td>189</td>\n",
       "      <td>193</td>\n",
       "      <td>176</td>\n",
       "      <td>168</td>\n",
       "      <td>151</td>\n",
       "      <td>2</td>\n",
       "    </tr>\n",
       "    <tr>\n",
       "      <th>3</th>\n",
       "      <td>109</td>\n",
       "      <td>159</td>\n",
       "      <td>167</td>\n",
       "      <td>166</td>\n",
       "      <td>163</td>\n",
       "      <td>159</td>\n",
       "      <td>155</td>\n",
       "      <td>96</td>\n",
       "      <td>141</td>\n",
       "      <td>168</td>\n",
       "      <td>...</td>\n",
       "      <td>101</td>\n",
       "      <td>79</td>\n",
       "      <td>146</td>\n",
       "      <td>170</td>\n",
       "      <td>167</td>\n",
       "      <td>158</td>\n",
       "      <td>154</td>\n",
       "      <td>133</td>\n",
       "      <td>45</td>\n",
       "      <td>2</td>\n",
       "    </tr>\n",
       "    <tr>\n",
       "      <th>4</th>\n",
       "      <td>173</td>\n",
       "      <td>202</td>\n",
       "      <td>210</td>\n",
       "      <td>194</td>\n",
       "      <td>208</td>\n",
       "      <td>248</td>\n",
       "      <td>243</td>\n",
       "      <td>205</td>\n",
       "      <td>180</td>\n",
       "      <td>142</td>\n",
       "      <td>...</td>\n",
       "      <td>230</td>\n",
       "      <td>160</td>\n",
       "      <td>199</td>\n",
       "      <td>206</td>\n",
       "      <td>208</td>\n",
       "      <td>209</td>\n",
       "      <td>205</td>\n",
       "      <td>200</td>\n",
       "      <td>186</td>\n",
       "      <td>2</td>\n",
       "    </tr>\n",
       "  </tbody>\n",
       "</table>\n",
       "<p>5 rows × 65 columns</p>\n",
       "</div>"
      ],
      "text/plain": [
       "   pixel0000  pixel0001  pixel0002  pixel0003  pixel0004  pixel0005  \\\n",
       "0        172        182        191        183        180        181   \n",
       "1         98        149        170        193        183        162   \n",
       "2        165        164        179        172        152        163   \n",
       "3        109        159        167        166        163        159   \n",
       "4        173        202        210        194        208        248   \n",
       "\n",
       "   pixel0006  pixel0007  pixel0008  pixel0009  ...    pixel0055  pixel0056  \\\n",
       "0        165        164        173        192  ...          159        171   \n",
       "1        164        100        137        175  ...          135         83   \n",
       "2        169        151        168        174  ...          169        152   \n",
       "3        155         96        141        168  ...          101         79   \n",
       "4        243        205        180        142  ...          230        160   \n",
       "\n",
       "   pixel0057  pixel0058  pixel0059  pixel0060  pixel0061  pixel0062  \\\n",
       "0        181        201        192        184        183        171   \n",
       "1        159        186        185        192        181        143   \n",
       "2        171        185        189        193        176        168   \n",
       "3        146        170        167        158        154        133   \n",
       "4        199        206        208        209        205        200   \n",
       "\n",
       "   pixel0063  label  \n",
       "0        157      2  \n",
       "1         58      2  \n",
       "2        151      2  \n",
       "3         45      2  \n",
       "4        186      2  \n",
       "\n",
       "[5 rows x 65 columns]"
      ]
     },
     "execution_count": 13,
     "metadata": {},
     "output_type": "execute_result"
    }
   ],
   "source": [
    "l_eight.head()"
   ]
  },
  {
   "cell_type": "code",
   "execution_count": 14,
   "metadata": {},
   "outputs": [
    {
     "data": {
      "text/plain": [
       "(10015, 65)"
      ]
     },
     "execution_count": 14,
     "metadata": {},
     "output_type": "execute_result"
    }
   ],
   "source": [
    "l_eight.shape"
   ]
  },
  {
   "cell_type": "code",
   "execution_count": 15,
   "metadata": {},
   "outputs": [],
   "source": [
    "l_eight_arr = l_eight[l_eight.columns[:64]].values"
   ]
  },
  {
   "cell_type": "code",
   "execution_count": 16,
   "metadata": {},
   "outputs": [
    {
     "data": {
      "text/plain": [
       "array([172, 182, 191, 183, 180, 181, 165, 164, 173, 192, 201, 172, 176,\n",
       "       188, 179, 167, 178, 193, 185, 184, 172, 157, 196, 167, 176, 184,\n",
       "       154, 176, 145, 168, 200, 172, 181, 177, 186, 170, 166, 191, 175,\n",
       "       167, 181, 183, 207, 193, 163, 170, 170, 163, 176, 185, 209, 196,\n",
       "       165, 182, 171, 159, 171, 181, 201, 192, 184, 183, 171, 157])"
      ]
     },
     "execution_count": 16,
     "metadata": {},
     "output_type": "execute_result"
    }
   ],
   "source": [
    "l_eight_arr[0]"
   ]
  },
  {
   "cell_type": "code",
   "execution_count": 17,
   "metadata": {},
   "outputs": [],
   "source": [
    "#reshape_l_eight_arr_0 = np.reshape(l_eight_arr, (-1,8))\n",
    "reshape_l_eight_arr = np.reshape(l_eight_arr[0], [8,8])"
   ]
  },
  {
   "cell_type": "code",
   "execution_count": 18,
   "metadata": {},
   "outputs": [
    {
     "name": "stdout",
     "output_type": "stream",
     "text": [
      "[[172 182 191 183 180 181 165 164]\n",
      " [173 192 201 172 176 188 179 167]\n",
      " [178 193 185 184 172 157 196 167]\n",
      " [176 184 154 176 145 168 200 172]\n",
      " [181 177 186 170 166 191 175 167]\n",
      " [181 183 207 193 163 170 170 163]\n",
      " [176 185 209 196 165 182 171 159]\n",
      " [171 181 201 192 184 183 171 157]]\n"
     ]
    }
   ],
   "source": [
    "#print(reshape_l_eight_arr_0[0])\n",
    "print(reshape_l_eight_arr)"
   ]
  },
  {
   "cell_type": "code",
   "execution_count": 19,
   "metadata": {},
   "outputs": [],
   "source": [
    "#plt.imshow(reshape_l_eight_arr_0[:8], cmap = 'gray')"
   ]
  },
  {
   "cell_type": "code",
   "execution_count": 20,
   "metadata": {},
   "outputs": [
    {
     "data": {
      "text/plain": [
       "<matplotlib.image.AxesImage at 0x1a1eddef60>"
      ]
     },
     "execution_count": 20,
     "metadata": {},
     "output_type": "execute_result"
    },
    {
     "data": {
      "image/png": "[encoded data removed]",
      "text/plain": [
       "<Figure size 432x288 with 1 Axes>"
      ]
     },
     "metadata": {
      "needs_background": "light"
     },
     "output_type": "display_data"
    }
   ],
   "source": [
    "plt.imshow(reshape_l_eight_arr, cmap = 'gray')"
   ]
  },
  {
   "cell_type": "code",
   "execution_count": 60,
   "metadata": {},
   "outputs": [],
   "source": [
    "def im_grid(size, data, img_x, img_y):\n",
    "    fig, ax = plt.subplots(nrows = size, ncols = size, sharex = 'col', sharey = 'row')\n",
    "    i = 0\n",
    "    for j in range(size):\n",
    "        for k in range(size):\n",
    "            val = np.reshape(data[i], [img_x,img_y])\n",
    "            ax[j,k].imshow(val, cmap = 'gray')    \n",
    "    # Turn off axes because they are useless in this viz\n",
    "            ax[j,k].axis('off')\n",
    "            i +=1\n",
    "        i+=1\n",
    "    plt.show()"
   ]
  },
  {
   "cell_type": "code",
   "execution_count": 62,
   "metadata": {},
   "outputs": [
    {
     "data": {
      "image/png": "[encoded data removed]",
      "text/plain": [
       "<Figure size 432x288 with 144 Axes>"
      ]
     },
     "metadata": {
      "needs_background": "light"
     },
     "output_type": "display_data"
    }
   ],
   "source": [
    "im_grid(12, l_eight_arr, 8, 8)"
   ]
  },
  {
   "cell_type": "markdown",
   "metadata": {},
   "source": [
    "## 8 by 8 RGB images\n",
    "\n",
    "This data is slightly different than the previous, with 192 different pixels (as opposed to the 64 identified in `L 8_8`). These images are larger than the previous data we looked at."
   ]
  },
  {
   "cell_type": "code",
   "execution_count": 22,
   "metadata": {},
   "outputs": [],
   "source": [
    "rgb_eight = pd.read_csv(direc + 'hmnist_8_8_RGB.csv')"
   ]
  },
  {
   "cell_type": "code",
   "execution_count": 23,
   "metadata": {},
   "outputs": [
    {
     "data": {
      "text/html": [
       "<div>\n",
       "<style scoped>\n",
       "    .dataframe tbody tr th:only-of-type {\n",
       "        vertical-align: middle;\n",
       "    }\n",
       "\n",
       "    .dataframe tbody tr th {\n",
       "        vertical-align: top;\n",
       "    }\n",
       "\n",
       "    .dataframe thead th {\n",
       "        text-align: right;\n",
       "    }\n",
       "</style>\n",
       "<table border=\"1\" class=\"dataframe\">\n",
       "  <thead>\n",
       "    <tr style=\"text-align: right;\">\n",
       "      <th></th>\n",
       "      <th>pixel0000</th>\n",
       "      <th>pixel0001</th>\n",
       "      <th>pixel0002</th>\n",
       "      <th>pixel0003</th>\n",
       "      <th>pixel0004</th>\n",
       "      <th>pixel0005</th>\n",
       "      <th>pixel0006</th>\n",
       "      <th>pixel0007</th>\n",
       "      <th>pixel0008</th>\n",
       "      <th>pixel0009</th>\n",
       "      <th>...</th>\n",
       "      <th>pixel0183</th>\n",
       "      <th>pixel0184</th>\n",
       "      <th>pixel0185</th>\n",
       "      <th>pixel0186</th>\n",
       "      <th>pixel0187</th>\n",
       "      <th>pixel0188</th>\n",
       "      <th>pixel0189</th>\n",
       "      <th>pixel0190</th>\n",
       "      <th>pixel0191</th>\n",
       "      <th>label</th>\n",
       "    </tr>\n",
       "  </thead>\n",
       "  <tbody>\n",
       "    <tr>\n",
       "      <th>0</th>\n",
       "      <td>199</td>\n",
       "      <td>156</td>\n",
       "      <td>188</td>\n",
       "      <td>210</td>\n",
       "      <td>165</td>\n",
       "      <td>198</td>\n",
       "      <td>216</td>\n",
       "      <td>176</td>\n",
       "      <td>203</td>\n",
       "      <td>215</td>\n",
       "      <td>...</td>\n",
       "      <td>214</td>\n",
       "      <td>167</td>\n",
       "      <td>191</td>\n",
       "      <td>199</td>\n",
       "      <td>157</td>\n",
       "      <td>175</td>\n",
       "      <td>184</td>\n",
       "      <td>143</td>\n",
       "      <td>167</td>\n",
       "      <td>2</td>\n",
       "    </tr>\n",
       "    <tr>\n",
       "      <th>1</th>\n",
       "      <td>115</td>\n",
       "      <td>87</td>\n",
       "      <td>115</td>\n",
       "      <td>180</td>\n",
       "      <td>133</td>\n",
       "      <td>158</td>\n",
       "      <td>200</td>\n",
       "      <td>153</td>\n",
       "      <td>187</td>\n",
       "      <td>215</td>\n",
       "      <td>...</td>\n",
       "      <td>207</td>\n",
       "      <td>167</td>\n",
       "      <td>188</td>\n",
       "      <td>177</td>\n",
       "      <td>128</td>\n",
       "      <td>138</td>\n",
       "      <td>74</td>\n",
       "      <td>51</td>\n",
       "      <td>60</td>\n",
       "      <td>2</td>\n",
       "    </tr>\n",
       "    <tr>\n",
       "      <th>2</th>\n",
       "      <td>203</td>\n",
       "      <td>146</td>\n",
       "      <td>164</td>\n",
       "      <td>209</td>\n",
       "      <td>144</td>\n",
       "      <td>153</td>\n",
       "      <td>217</td>\n",
       "      <td>160</td>\n",
       "      <td>181</td>\n",
       "      <td>215</td>\n",
       "      <td>...</td>\n",
       "      <td>211</td>\n",
       "      <td>160</td>\n",
       "      <td>175</td>\n",
       "      <td>199</td>\n",
       "      <td>152</td>\n",
       "      <td>172</td>\n",
       "      <td>177</td>\n",
       "      <td>138</td>\n",
       "      <td>158</td>\n",
       "      <td>2</td>\n",
       "    </tr>\n",
       "    <tr>\n",
       "      <th>3</th>\n",
       "      <td>135</td>\n",
       "      <td>96</td>\n",
       "      <td>110</td>\n",
       "      <td>198</td>\n",
       "      <td>141</td>\n",
       "      <td>156</td>\n",
       "      <td>208</td>\n",
       "      <td>148</td>\n",
       "      <td>158</td>\n",
       "      <td>210</td>\n",
       "      <td>...</td>\n",
       "      <td>179</td>\n",
       "      <td>141</td>\n",
       "      <td>157</td>\n",
       "      <td>153</td>\n",
       "      <td>122</td>\n",
       "      <td>138</td>\n",
       "      <td>58</td>\n",
       "      <td>39</td>\n",
       "      <td>46</td>\n",
       "      <td>2</td>\n",
       "    </tr>\n",
       "    <tr>\n",
       "      <th>4</th>\n",
       "      <td>204</td>\n",
       "      <td>156</td>\n",
       "      <td>187</td>\n",
       "      <td>232</td>\n",
       "      <td>185</td>\n",
       "      <td>216</td>\n",
       "      <td>236</td>\n",
       "      <td>196</td>\n",
       "      <td>220</td>\n",
       "      <td>217</td>\n",
       "      <td>...</td>\n",
       "      <td>236</td>\n",
       "      <td>189</td>\n",
       "      <td>213</td>\n",
       "      <td>233</td>\n",
       "      <td>182</td>\n",
       "      <td>209</td>\n",
       "      <td>207</td>\n",
       "      <td>175</td>\n",
       "      <td>188</td>\n",
       "      <td>2</td>\n",
       "    </tr>\n",
       "  </tbody>\n",
       "</table>\n",
       "<p>5 rows × 193 columns</p>\n",
       "</div>"
      ],
      "text/plain": [
       "   pixel0000  pixel0001  pixel0002  pixel0003  pixel0004  pixel0005  \\\n",
       "0        199        156        188        210        165        198   \n",
       "1        115         87        115        180        133        158   \n",
       "2        203        146        164        209        144        153   \n",
       "3        135         96        110        198        141        156   \n",
       "4        204        156        187        232        185        216   \n",
       "\n",
       "   pixel0006  pixel0007  pixel0008  pixel0009  ...    pixel0183  pixel0184  \\\n",
       "0        216        176        203        215  ...          214        167   \n",
       "1        200        153        187        215  ...          207        167   \n",
       "2        217        160        181        215  ...          211        160   \n",
       "3        208        148        158        210  ...          179        141   \n",
       "4        236        196        220        217  ...          236        189   \n",
       "\n",
       "   pixel0185  pixel0186  pixel0187  pixel0188  pixel0189  pixel0190  \\\n",
       "0        191        199        157        175        184        143   \n",
       "1        188        177        128        138         74         51   \n",
       "2        175        199        152        172        177        138   \n",
       "3        157        153        122        138         58         39   \n",
       "4        213        233        182        209        207        175   \n",
       "\n",
       "   pixel0191  label  \n",
       "0        167      2  \n",
       "1         60      2  \n",
       "2        158      2  \n",
       "3         46      2  \n",
       "4        188      2  \n",
       "\n",
       "[5 rows x 193 columns]"
      ]
     },
     "execution_count": 23,
     "metadata": {},
     "output_type": "execute_result"
    }
   ],
   "source": [
    "rgb_eight.head()"
   ]
  },
  {
   "cell_type": "code",
   "execution_count": 24,
   "metadata": {},
   "outputs": [],
   "source": [
    "rgb_eight = rgb_eight[rgb_eight.columns[:192]].values"
   ]
  },
  {
   "cell_type": "code",
   "execution_count": 43,
   "metadata": {},
   "outputs": [
    {
     "data": {
      "text/plain": [
       "array([199, 156, 188, 210, 165, 198, 216, 176, 203, 215, 166, 193, 215,\n",
       "       162, 186, 210, 164, 193, 198, 148, 171, 194, 151, 161, 204, 156,\n",
       "       184, 218, 177, 208, 224, 187, 216, 212, 153, 170, 213, 158, 177,\n",
       "       216, 172, 202, 210, 164, 183, 197, 154, 160, 209, 160, 190, 220,\n",
       "       177, 211, 215, 170, 186, 218, 168, 185, 207, 154, 175, 199, 138,\n",
       "       148, 219, 184, 201, 199, 152, 162, 208, 158, 186, 215, 167, 196,\n",
       "       194, 136, 142, 208, 162, 168, 190, 126, 126, 208, 151, 158, 221,\n",
       "       188, 211, 202, 157, 171, 210, 164, 196, 212, 160, 180, 215, 172,\n",
       "       187, 206, 155, 156, 207, 150, 148, 223, 174, 200, 210, 158, 172,\n",
       "       199, 152, 166, 208, 165, 194, 214, 167, 186, 224, 197, 215, 219,\n",
       "       181, 190, 205, 146, 147, 210, 152, 162, 206, 154, 162, 194, 148,\n",
       "       160, 204, 161, 186, 213, 171, 191, 224, 199, 223, 218, 185, 199,\n",
       "       204, 149, 149, 216, 165, 185, 202, 155, 174, 190, 143, 168, 197,\n",
       "       157, 183, 210, 166, 190, 218, 190, 219, 214, 181, 197, 212, 170,\n",
       "       189, 214, 167, 191, 199, 157, 175, 184, 143, 167])"
      ]
     },
     "execution_count": 43,
     "metadata": {},
     "output_type": "execute_result"
    }
   ],
   "source": [
    "rgb_eight[0]"
   ]
  },
  {
   "cell_type": "code",
   "execution_count": 26,
   "metadata": {},
   "outputs": [],
   "source": [
    "#reshape_rgb_eight_arr = np.reshape(rgb_eight, (-1,8))"
   ]
  },
  {
   "cell_type": "code",
   "execution_count": 27,
   "metadata": {},
   "outputs": [
    {
     "data": {
      "text/plain": [
       "array([[199, 156, 188, 210, 165, 198, 216, 176],\n",
       "       [203, 215, 166, 193, 215, 162, 186, 210],\n",
       "       [164, 193, 198, 148, 171, 194, 151, 161],\n",
       "       [204, 156, 184, 218, 177, 208, 224, 187],\n",
       "       [216, 212, 153, 170, 213, 158, 177, 216],\n",
       "       [172, 202, 210, 164, 183, 197, 154, 160],\n",
       "       [209, 160, 190, 220, 177, 211, 215, 170],\n",
       "       [186, 218, 168, 185, 207, 154, 175, 199]])"
      ]
     },
     "execution_count": 27,
     "metadata": {},
     "output_type": "execute_result"
    }
   ],
   "source": [
    "#reshape_rgb_eight_arr[:8]"
   ]
  },
  {
   "cell_type": "code",
   "execution_count": 54,
   "metadata": {},
   "outputs": [],
   "source": [
    "#im_grid(2, rgb_eight,16,12)"
   ]
  },
  {
   "cell_type": "markdown",
   "metadata": {},
   "source": [
    "## 28 by 28 L images"
   ]
  },
  {
   "cell_type": "code",
   "execution_count": 49,
   "metadata": {},
   "outputs": [],
   "source": [
    "l_28 = pd.read_csv(direc + 'hmnist_28_28_l.csv')"
   ]
  },
  {
   "cell_type": "code",
   "execution_count": 51,
   "metadata": {},
   "outputs": [
    {
     "data": {
      "text/plain": [
       "(10015, 785)"
      ]
     },
     "execution_count": 51,
     "metadata": {},
     "output_type": "execute_result"
    }
   ],
   "source": [
    "l_28.shape"
   ]
  },
  {
   "cell_type": "code",
   "execution_count": 52,
   "metadata": {},
   "outputs": [],
   "source": [
    "l_28_arr = l_28[l_28.columns[:784]].values"
   ]
  },
  {
   "cell_type": "code",
   "execution_count": 63,
   "metadata": {},
   "outputs": [
    {
     "data": {
      "image/png": "[encoded data removed]",
      "text/plain": [
       "<Figure size 432x288 with 144 Axes>"
      ]
     },
     "metadata": {
      "needs_background": "light"
     },
     "output_type": "display_data"
    }
   ],
   "source": [
    "im_grid(12, l_28_arr, 28, 28)"
   ]
  },
  {
   "cell_type": "markdown",
   "metadata": {},
   "source": [
    "## 28 by 28 RGB images"
   ]
  },
  {
   "cell_type": "code",
   "execution_count": 57,
   "metadata": {},
   "outputs": [],
   "source": [
    "rgb_28 = pd.read_csv(direc + 'hmnist_28_28_RGB.csv')"
   ]
  },
  {
   "cell_type": "code",
   "execution_count": 58,
   "metadata": {},
   "outputs": [
    {
     "data": {
      "text/plain": [
       "(10015, 2353)"
      ]
     },
     "execution_count": 58,
     "metadata": {},
     "output_type": "execute_result"
    }
   ],
   "source": [
    "rgb_28.shape"
   ]
  },
  {
   "cell_type": "code",
   "execution_count": null,
   "metadata": {},
   "outputs": [],
   "source": []
  }
 ],
 "metadata": {
  "kernelspec": {
   "display_name": "Python 3",
   "language": "python",
   "name": "python3"
  },
  "language_info": {
   "codemirror_mode": {
    "name": "ipython",
    "version": 3
   },
   "file_extension": ".py",
   "mimetype": "text/x-python",
   "name": "python",
   "nbconvert_exporter": "python",
   "pygments_lexer": "ipython3",
   "version": "3.6.7"
  }
 },
 "nbformat": 4,
 "nbformat_minor": 2
}
